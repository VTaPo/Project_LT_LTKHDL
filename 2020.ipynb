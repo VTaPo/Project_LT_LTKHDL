{
 "cells": [
  {
   "cell_type": "code",
   "execution_count": 1,
   "metadata": {},
   "outputs": [],
   "source": [
    "import numpy as np\n",
    "import pandas as pd"
   ]
  },
  {
   "cell_type": "code",
   "execution_count": 2,
   "metadata": {},
   "outputs": [
    {
     "data": {
      "text/html": [
       "<div>\n",
       "<style scoped>\n",
       "    .dataframe tbody tr th:only-of-type {\n",
       "        vertical-align: middle;\n",
       "    }\n",
       "\n",
       "    .dataframe tbody tr th {\n",
       "        vertical-align: top;\n",
       "    }\n",
       "\n",
       "    .dataframe thead th {\n",
       "        text-align: right;\n",
       "    }\n",
       "</style>\n",
       "<table border=\"1\" class=\"dataframe\">\n",
       "  <thead>\n",
       "    <tr style=\"text-align: right;\">\n",
       "      <th></th>\n",
       "      <th>Dia</th>\n",
       "      <th>GDCD</th>\n",
       "      <th>Hoa</th>\n",
       "      <th>Li</th>\n",
       "      <th>Ma_mon_ngoai_ngu</th>\n",
       "      <th>Ngoai_ngu</th>\n",
       "      <th>Sinh</th>\n",
       "      <th>Su</th>\n",
       "      <th>Toan</th>\n",
       "      <th>Van</th>\n",
       "      <th>sbd</th>\n",
       "    </tr>\n",
       "  </thead>\n",
       "  <tbody>\n",
       "    <tr>\n",
       "      <th>0</th>\n",
       "      <td>7.00</td>\n",
       "      <td>6.50</td>\n",
       "      <td>NaN</td>\n",
       "      <td>NaN</td>\n",
       "      <td>N1</td>\n",
       "      <td>4.2</td>\n",
       "      <td>NaN</td>\n",
       "      <td>4.75</td>\n",
       "      <td>6.4</td>\n",
       "      <td>6.75</td>\n",
       "      <td>18014547</td>\n",
       "    </tr>\n",
       "    <tr>\n",
       "      <th>1</th>\n",
       "      <td>7.75</td>\n",
       "      <td>7.75</td>\n",
       "      <td>NaN</td>\n",
       "      <td>NaN</td>\n",
       "      <td>N1</td>\n",
       "      <td>2.8</td>\n",
       "      <td>NaN</td>\n",
       "      <td>3.75</td>\n",
       "      <td>7.6</td>\n",
       "      <td>6.00</td>\n",
       "      <td>18014530</td>\n",
       "    </tr>\n",
       "    <tr>\n",
       "      <th>2</th>\n",
       "      <td>6.50</td>\n",
       "      <td>NaN</td>\n",
       "      <td>NaN</td>\n",
       "      <td>NaN</td>\n",
       "      <td>NaN</td>\n",
       "      <td>NaN</td>\n",
       "      <td>NaN</td>\n",
       "      <td>4.00</td>\n",
       "      <td>4.8</td>\n",
       "      <td>4.75</td>\n",
       "      <td>18014521</td>\n",
       "    </tr>\n",
       "    <tr>\n",
       "      <th>3</th>\n",
       "      <td>8.00</td>\n",
       "      <td>9.50</td>\n",
       "      <td>NaN</td>\n",
       "      <td>NaN</td>\n",
       "      <td>N1</td>\n",
       "      <td>5.8</td>\n",
       "      <td>NaN</td>\n",
       "      <td>8.25</td>\n",
       "      <td>8.0</td>\n",
       "      <td>7.00</td>\n",
       "      <td>18014517</td>\n",
       "    </tr>\n",
       "    <tr>\n",
       "      <th>4</th>\n",
       "      <td>NaN</td>\n",
       "      <td>NaN</td>\n",
       "      <td>8.5</td>\n",
       "      <td>8.0</td>\n",
       "      <td>N1</td>\n",
       "      <td>4.0</td>\n",
       "      <td>5.0</td>\n",
       "      <td>NaN</td>\n",
       "      <td>8.2</td>\n",
       "      <td>6.50</td>\n",
       "      <td>18014523</td>\n",
       "    </tr>\n",
       "  </tbody>\n",
       "</table>\n",
       "</div>"
      ],
      "text/plain": [
       "    Dia  GDCD  Hoa   Li Ma_mon_ngoai_ngu  Ngoai_ngu  Sinh    Su  Toan   Van  \\\n",
       "0  7.00  6.50  NaN  NaN               N1        4.2   NaN  4.75   6.4  6.75   \n",
       "1  7.75  7.75  NaN  NaN               N1        2.8   NaN  3.75   7.6  6.00   \n",
       "2  6.50   NaN  NaN  NaN              NaN        NaN   NaN  4.00   4.8  4.75   \n",
       "3  8.00  9.50  NaN  NaN               N1        5.8   NaN  8.25   8.0  7.00   \n",
       "4   NaN   NaN  8.5  8.0               N1        4.0   5.0   NaN   8.2  6.50   \n",
       "\n",
       "        sbd  \n",
       "0  18014547  \n",
       "1  18014530  \n",
       "2  18014521  \n",
       "3  18014517  \n",
       "4  18014523  "
      ]
     },
     "execution_count": 2,
     "metadata": {},
     "output_type": "execute_result"
    }
   ],
   "source": [
    "df = pd.read_csv('diemthi2020.csv', index_col=0)\n",
    "df.head()"
   ]
  },
  {
   "cell_type": "code",
   "execution_count": 3,
   "metadata": {},
   "outputs": [],
   "source": [
    "df = df.drop(['Ma_mon_ngoai_ngu'], axis=1)"
   ]
  },
  {
   "cell_type": "code",
   "execution_count": 4,
   "metadata": {},
   "outputs": [],
   "source": [
    "ma_tinh={1:'HÀ NỘI',        2:'HỒ CHÍ MINH',    3:'HẢI PHÒNG',          4:'ĐÀ NẴNG',        5:'HÀ GIANG',       6:'CAO BẰNG',   7:'LAI CHÂU',   8:'LÀO CAI',\n",
    "         9:'TUYÊN QUANG',   10:'LẠNG SƠN',      11:'BẮC KẠN',           12:'THÁI NGUYÊN',   13:'YÊN BÁI',       14:'SƠN LA',    15:'PHÚ THỌ',   16:'VĨNH PHÚC',\n",
    "         17:'QUẢNG NINH',   18:'BẮC GIANG',     19:'BẮC NINH',          21:'HẢI DƯƠNG',     22:'HƯNG YÊN',      23:'HÒA BÌNH',  24:'HÀ NAM',    25:'NAM ĐỊNH',\n",
    "         26:'THÁI BÌNH',    27:'NINH BÌNH',     28:'THANH HÓA',         29:'NGHỆ AN',       30:'HÀ TĨNH',       31:'QUẢNG BÌNH',32:'QUẢNG TRỊ', 33:'THỪA THIÊN - HUẾ',\n",
    "         34:'QUẢNG NAM',    35:'QUẢNG NGÃI',    36:'KON TUM',           37:'BÌNH ĐỊNH',     38:'GIA LAI',       39:'PHÚ YÊN',   40:'ĐẮK LẮK',   41:'KHÁNH HÒA',\n",
    "         42:'LÂM ĐỒNG',     43:'BÌNH PHƯỚC',    44:'BÌNH DƯƠNG',        45:'NINH THUẬN',    46:'TÂY NINH',      47:'BÌNH THUẬN',48:'ĐỒNG NAI',  49:'LONG AN',\n",
    "         50:'ĐỒNG THÁP',    51:'AN GIANG' ,     52:'BÀ RỊA – VŨNG TÀU', 53:'TIỀN GIANG',    54:'KIÊN GIANG',    55:'CẦN THƠ',   56:'BẾN TRE',   57:'VĨNH LONG',\n",
    "         58:'TRÀ VINH',     59:'SÓC TRĂNG',     60:'BẠC LIÊU',          61:'CÀ MAU',        62:'ĐIỆN BIÊN',     63:'ĐĂK NÔNG',  64:'HẬU GIANG'}"
   ]
  },
  {
   "cell_type": "code",
   "execution_count": 5,
   "metadata": {},
   "outputs": [],
   "source": [
    "df['Tỉnh/Thành phố'] = df['sbd'].apply(lambda x: x//1000000)\n",
    "df['Tỉnh/Thành phố'] = df['Tỉnh/Thành phố'].map(ma_tinh)"
   ]
  },
  {
   "cell_type": "code",
   "execution_count": 6,
   "metadata": {},
   "outputs": [],
   "source": [
    "df['sbd'] = df['sbd'].astype(str)"
   ]
  },
  {
   "cell_type": "code",
   "execution_count": 7,
   "metadata": {},
   "outputs": [],
   "source": [
    "df['TB-KHTN'] = df[['Li', 'Hoa', 'Sinh']].mean(axis=1).round(2)"
   ]
  },
  {
   "cell_type": "code",
   "execution_count": 8,
   "metadata": {},
   "outputs": [],
   "source": [
    "df['TB-KHXH'] = df[['Su', 'Dia', 'GDCD']].mean(axis=1).round(2)"
   ]
  },
  {
   "cell_type": "code",
   "execution_count": 9,
   "metadata": {},
   "outputs": [],
   "source": [
    "df.rename(columns={'sbd':'SBD', 'Toan':'Toán',  'Van':'Văn',\n",
    "                   'Li':'Lí',   'Hoa':'Hóa',\n",
    "                   'Su':'Sử',   'Dia':'Địa',\n",
    "                   'Ngoai_ngu':'Ngoại ngữ'}, inplace = True)"
   ]
  },
  {
   "cell_type": "code",
   "execution_count": 10,
   "metadata": {},
   "outputs": [
    {
     "data": {
      "text/html": [
       "<div>\n",
       "<style scoped>\n",
       "    .dataframe tbody tr th:only-of-type {\n",
       "        vertical-align: middle;\n",
       "    }\n",
       "\n",
       "    .dataframe tbody tr th {\n",
       "        vertical-align: top;\n",
       "    }\n",
       "\n",
       "    .dataframe thead th {\n",
       "        text-align: right;\n",
       "    }\n",
       "</style>\n",
       "<table border=\"1\" class=\"dataframe\">\n",
       "  <thead>\n",
       "    <tr style=\"text-align: right;\">\n",
       "      <th></th>\n",
       "      <th>SBD</th>\n",
       "      <th>Tỉnh/Thành phố</th>\n",
       "      <th>Toán</th>\n",
       "      <th>Văn</th>\n",
       "      <th>Lí</th>\n",
       "      <th>Hóa</th>\n",
       "      <th>Sinh</th>\n",
       "      <th>TB-KHTN</th>\n",
       "      <th>Sử</th>\n",
       "      <th>Địa</th>\n",
       "      <th>GDCD</th>\n",
       "      <th>TB-KHXH</th>\n",
       "      <th>Ngoại ngữ</th>\n",
       "    </tr>\n",
       "  </thead>\n",
       "  <tbody>\n",
       "    <tr>\n",
       "      <th>0</th>\n",
       "      <td>18014547</td>\n",
       "      <td>BẮC GIANG</td>\n",
       "      <td>6.4</td>\n",
       "      <td>6.75</td>\n",
       "      <td>NaN</td>\n",
       "      <td>NaN</td>\n",
       "      <td>NaN</td>\n",
       "      <td>NaN</td>\n",
       "      <td>4.75</td>\n",
       "      <td>7.00</td>\n",
       "      <td>6.50</td>\n",
       "      <td>6.08</td>\n",
       "      <td>4.2</td>\n",
       "    </tr>\n",
       "    <tr>\n",
       "      <th>1</th>\n",
       "      <td>18014530</td>\n",
       "      <td>BẮC GIANG</td>\n",
       "      <td>7.6</td>\n",
       "      <td>6.00</td>\n",
       "      <td>NaN</td>\n",
       "      <td>NaN</td>\n",
       "      <td>NaN</td>\n",
       "      <td>NaN</td>\n",
       "      <td>3.75</td>\n",
       "      <td>7.75</td>\n",
       "      <td>7.75</td>\n",
       "      <td>6.42</td>\n",
       "      <td>2.8</td>\n",
       "    </tr>\n",
       "    <tr>\n",
       "      <th>2</th>\n",
       "      <td>18014521</td>\n",
       "      <td>BẮC GIANG</td>\n",
       "      <td>4.8</td>\n",
       "      <td>4.75</td>\n",
       "      <td>NaN</td>\n",
       "      <td>NaN</td>\n",
       "      <td>NaN</td>\n",
       "      <td>NaN</td>\n",
       "      <td>4.00</td>\n",
       "      <td>6.50</td>\n",
       "      <td>NaN</td>\n",
       "      <td>5.25</td>\n",
       "      <td>NaN</td>\n",
       "    </tr>\n",
       "    <tr>\n",
       "      <th>3</th>\n",
       "      <td>18014517</td>\n",
       "      <td>BẮC GIANG</td>\n",
       "      <td>8.0</td>\n",
       "      <td>7.00</td>\n",
       "      <td>NaN</td>\n",
       "      <td>NaN</td>\n",
       "      <td>NaN</td>\n",
       "      <td>NaN</td>\n",
       "      <td>8.25</td>\n",
       "      <td>8.00</td>\n",
       "      <td>9.50</td>\n",
       "      <td>8.58</td>\n",
       "      <td>5.8</td>\n",
       "    </tr>\n",
       "    <tr>\n",
       "      <th>4</th>\n",
       "      <td>18014523</td>\n",
       "      <td>BẮC GIANG</td>\n",
       "      <td>8.2</td>\n",
       "      <td>6.50</td>\n",
       "      <td>8.0</td>\n",
       "      <td>8.5</td>\n",
       "      <td>5.0</td>\n",
       "      <td>7.17</td>\n",
       "      <td>NaN</td>\n",
       "      <td>NaN</td>\n",
       "      <td>NaN</td>\n",
       "      <td>NaN</td>\n",
       "      <td>4.0</td>\n",
       "    </tr>\n",
       "  </tbody>\n",
       "</table>\n",
       "</div>"
      ],
      "text/plain": [
       "        SBD Tỉnh/Thành phố  Toán   Văn   Lí  Hóa  Sinh  TB-KHTN    Sử   Địa  \\\n",
       "0  18014547      BẮC GIANG   6.4  6.75  NaN  NaN   NaN      NaN  4.75  7.00   \n",
       "1  18014530      BẮC GIANG   7.6  6.00  NaN  NaN   NaN      NaN  3.75  7.75   \n",
       "2  18014521      BẮC GIANG   4.8  4.75  NaN  NaN   NaN      NaN  4.00  6.50   \n",
       "3  18014517      BẮC GIANG   8.0  7.00  NaN  NaN   NaN      NaN  8.25  8.00   \n",
       "4  18014523      BẮC GIANG   8.2  6.50  8.0  8.5   5.0     7.17   NaN   NaN   \n",
       "\n",
       "   GDCD  TB-KHXH  Ngoại ngữ  \n",
       "0  6.50     6.08        4.2  \n",
       "1  7.75     6.42        2.8  \n",
       "2   NaN     5.25        NaN  \n",
       "3  9.50     8.58        5.8  \n",
       "4   NaN      NaN        4.0  "
      ]
     },
     "execution_count": 10,
     "metadata": {},
     "output_type": "execute_result"
    }
   ],
   "source": [
    "df = df[['SBD', 'Tỉnh/Thành phố',   'Toán', 'Văn',\n",
    "         'Lí',  'Hóa',              'Sinh', 'TB-KHTN',\n",
    "         'Sử',  'Địa',              'GDCD', 'TB-KHXH',\n",
    "         'Ngoại ngữ']]\n",
    "df.head()"
   ]
  },
  {
   "cell_type": "code",
   "execution_count": 11,
   "metadata": {},
   "outputs": [
    {
     "name": "stdout",
     "output_type": "stream",
     "text": [
      "<class 'pandas.core.frame.DataFrame'>\n",
      "Int64Index: 870486 entries, 0 to 870485\n",
      "Data columns (total 13 columns):\n",
      " #   Column          Non-Null Count   Dtype  \n",
      "---  ------          --------------   -----  \n",
      " 0   SBD             870486 non-null  object \n",
      " 1   Tỉnh/Thành phố  870486 non-null  object \n",
      " 2   Toán            866581 non-null  float64\n",
      " 3   Văn             856565 non-null  float64\n",
      " 4   Lí              293287 non-null  float64\n",
      " 5   Hóa             295536 non-null  float64\n",
      " 6   Sinh            290377 non-null  float64\n",
      " 7   TB-KHTN         297576 non-null  float64\n",
      " 8   Sử              568581 non-null  float64\n",
      " 9   Địa             555072 non-null  float64\n",
      " 10  GDCD            482980 non-null  float64\n",
      " 11  TB-KHXH         568807 non-null  float64\n",
      " 12  Ngoại ngữ       772098 non-null  float64\n",
      "dtypes: float64(11), object(2)\n",
      "memory usage: 93.0+ MB\n"
     ]
    }
   ],
   "source": [
    "df.info()"
   ]
  },
  {
   "cell_type": "code",
   "execution_count": 12,
   "metadata": {},
   "outputs": [],
   "source": [
    "df.to_csv('diemthi2020_final.csv', encoding='utf-8-sig')"
   ]
  }
 ],
 "metadata": {
  "kernelspec": {
   "display_name": "Python 3 (ipykernel)",
   "language": "python",
   "name": "python3"
  },
  "language_info": {
   "codemirror_mode": {
    "name": "ipython",
    "version": 3
   },
   "file_extension": ".py",
   "mimetype": "text/x-python",
   "name": "python",
   "nbconvert_exporter": "python",
   "pygments_lexer": "ipython3",
   "version": "3.9.5"
  },
  "vscode": {
   "interpreter": {
    "hash": "ca31535f7ed96dff22f0fc7d621b1c7e9e25036f336c418bc4bc4f277f98007e"
   }
  }
 },
 "nbformat": 4,
 "nbformat_minor": 4
}
